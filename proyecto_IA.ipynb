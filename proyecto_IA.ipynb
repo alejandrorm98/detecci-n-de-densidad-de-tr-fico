{
 "cells": [
  {
   "cell_type": "code",
   "execution_count": 1,
   "metadata": {},
   "outputs": [],
   "source": [
    "import numpy as np\n",
    "import pandas as pd"
   ]
  },
  {
   "cell_type": "code",
   "execution_count": 3,
   "metadata": {},
   "outputs": [
    {
     "data": {
      "text/html": [
       "<div>\n",
       "<style scoped>\n",
       "    .dataframe tbody tr th:only-of-type {\n",
       "        vertical-align: middle;\n",
       "    }\n",
       "\n",
       "    .dataframe tbody tr th {\n",
       "        vertical-align: top;\n",
       "    }\n",
       "\n",
       "    .dataframe thead th {\n",
       "        text-align: right;\n",
       "    }\n",
       "</style>\n",
       "<table border=\"1\" class=\"dataframe\">\n",
       "  <thead>\n",
       "    <tr style=\"text-align: right;\">\n",
       "      <th></th>\n",
       "      <th>REGIONALISM</th>\n",
       "      <th>REGIONALISM_SCORE</th>\n",
       "      <th>CITY</th>\n",
       "      <th>WORD_CITY_SCORE</th>\n",
       "      <th>TWEET</th>\n",
       "    </tr>\n",
       "  </thead>\n",
       "  <tbody>\n",
       "    <tr>\n",
       "      <th>0</th>\n",
       "      <td>hpta</td>\n",
       "      <td>8.2528</td>\n",
       "      <td>Ibague</td>\n",
       "      <td>1.7990</td>\n",
       "      <td>Que frío tan doble hpta hacia en la linea¡VAMO...</td>\n",
       "    </tr>\n",
       "    <tr>\n",
       "      <th>1</th>\n",
       "      <td>hpta</td>\n",
       "      <td>8.2528</td>\n",
       "      <td>Ibague</td>\n",
       "      <td>1.7990</td>\n",
       "      <td>Bueno, seré ñoño, pocas cosas me gustan más en...</td>\n",
       "    </tr>\n",
       "    <tr>\n",
       "      <th>2</th>\n",
       "      <td>hpta</td>\n",
       "      <td>8.2528</td>\n",
       "      <td>Ibague</td>\n",
       "      <td>1.7990</td>\n",
       "      <td>#ElParrandero @SinAnimoDeLucro Que hpta tema p...</td>\n",
       "    </tr>\n",
       "    <tr>\n",
       "      <th>3</th>\n",
       "      <td>hpta</td>\n",
       "      <td>8.2528</td>\n",
       "      <td>Barranquilla</td>\n",
       "      <td>1.7628</td>\n",
       "      <td>A veces uno se tiene que volver un hpta con to...</td>\n",
       "    </tr>\n",
       "    <tr>\n",
       "      <th>4</th>\n",
       "      <td>hpta</td>\n",
       "      <td>8.2528</td>\n",
       "      <td>Bogota</td>\n",
       "      <td>1.5417</td>\n",
       "      <td>#DiaMundialDelSexo y solo una hpta mosca encim...</td>\n",
       "    </tr>\n",
       "    <tr>\n",
       "      <th>5</th>\n",
       "      <td>hpta</td>\n",
       "      <td>8.2528</td>\n",
       "      <td>Bogota</td>\n",
       "      <td>1.5417</td>\n",
       "      <td>Ole, que cosa para hpta, malo por que el @Amer...</td>\n",
       "    </tr>\n",
       "    <tr>\n",
       "      <th>6</th>\n",
       "      <td>hpta</td>\n",
       "      <td>8.2528</td>\n",
       "      <td>Bogota</td>\n",
       "      <td>1.5417</td>\n",
       "      <td>En este momento escudándose siento que necesit...</td>\n",
       "    </tr>\n",
       "    <tr>\n",
       "      <th>7</th>\n",
       "      <td>hpta</td>\n",
       "      <td>8.2528</td>\n",
       "      <td>Bogota</td>\n",
       "      <td>1.5417</td>\n",
       "      <td>El hpta taxista me llamo bruto por llevar la via.</td>\n",
       "    </tr>\n",
       "    <tr>\n",
       "      <th>8</th>\n",
       "      <td>hpta</td>\n",
       "      <td>8.2528</td>\n",
       "      <td>Medellin</td>\n",
       "      <td>1.3862</td>\n",
       "      <td>regrann from @la45music  -  regrann from @adri...</td>\n",
       "    </tr>\n",
       "    <tr>\n",
       "      <th>9</th>\n",
       "      <td>hpta</td>\n",
       "      <td>8.2528</td>\n",
       "      <td>Medellin</td>\n",
       "      <td>1.3862</td>\n",
       "      <td>Las cosas como son hermano y me disculpa pero ...</td>\n",
       "    </tr>\n",
       "  </tbody>\n",
       "</table>\n",
       "</div>"
      ],
      "text/plain": [
       "  REGIONALISM  REGIONALISM_SCORE          CITY  WORD_CITY_SCORE  \\\n",
       "0        hpta             8.2528        Ibague           1.7990   \n",
       "1        hpta             8.2528        Ibague           1.7990   \n",
       "2        hpta             8.2528        Ibague           1.7990   \n",
       "3        hpta             8.2528  Barranquilla           1.7628   \n",
       "4        hpta             8.2528        Bogota           1.5417   \n",
       "5        hpta             8.2528        Bogota           1.5417   \n",
       "6        hpta             8.2528        Bogota           1.5417   \n",
       "7        hpta             8.2528        Bogota           1.5417   \n",
       "8        hpta             8.2528      Medellin           1.3862   \n",
       "9        hpta             8.2528      Medellin           1.3862   \n",
       "\n",
       "                                               TWEET  \n",
       "0  Que frío tan doble hpta hacia en la linea¡VAMO...  \n",
       "1  Bueno, seré ñoño, pocas cosas me gustan más en...  \n",
       "2  #ElParrandero @SinAnimoDeLucro Que hpta tema p...  \n",
       "3  A veces uno se tiene que volver un hpta con to...  \n",
       "4  #DiaMundialDelSexo y solo una hpta mosca encim...  \n",
       "5  Ole, que cosa para hpta, malo por que el @Amer...  \n",
       "6  En este momento escudándose siento que necesit...  \n",
       "7  El hpta taxista me llamo bruto por llevar la via.  \n",
       "8  regrann from @la45music  -  regrann from @adri...  \n",
       "9  Las cosas como son hermano y me disculpa pero ...  "
      ]
     },
     "execution_count": 3,
     "metadata": {},
     "output_type": "execute_result"
    }
   ],
   "source": [
    "reg = pd.read_csv(\"../data/Regionalismos_de_COLOMBIA_con_ejemplos_de_TWITTER.csv.csv\")\n",
    "reg.head(10)\n"
   ]
  },
  {
   "cell_type": "code",
   "execution_count": 5,
   "metadata": {},
   "outputs": [
    {
     "name": "stdout",
     "output_type": "stream",
     "text": [
      "(50001, 4) (50001, 1) (45000, 4) (45000, 1) (5001, 4) (5001, 1)\n"
     ]
    }
   ],
   "source": [
    "\n",
    "Y =reg.values[:,-3:-2]\n",
    "X = reg.drop('CITY',1)\n",
    "\n",
    "perm=np.random.permutation(range(X.shape[0]))\n",
    "\n",
    "Y=Y[perm]\n",
    "X=X.values[perm]\n",
    "\n",
    "n=int(len(X)*0.9)\n",
    "\n",
    "x_train=X[:n]\n",
    "y_train=Y[:n]\n",
    "x_test=X[n:]\n",
    "y_test=Y[n:]\n",
    "\n",
    "print X.shape , Y.shape , x_train.shape , y_train.shape , x_test.shape , y_test.shape"
   ]
  },
  {
   "cell_type": "code",
   "execution_count": 6,
   "metadata": {},
   "outputs": [
    {
     "name": "stdout",
     "output_type": "stream",
     "text": [
      "[['Medellin']\n",
      " ['Medellin']\n",
      " ['Medellin']\n",
      " ..., \n",
      " ['Medellin']\n",
      " ['Ibague']\n",
      " ['Bogota']]\n"
     ]
    }
   ],
   "source": [
    "\n",
    "\n",
    "print Y "
   ]
  },
  {
   "cell_type": "markdown",
   "metadata": {},
   "source": []
  },
  {
   "cell_type": "code",
   "execution_count": null,
   "metadata": {},
   "outputs": [],
   "source": []
  }
 ],
 "metadata": {
  "kernelspec": {
   "display_name": "Python 2",
   "language": "python",
   "name": "python2"
  },
  "language_info": {
   "codemirror_mode": {
    "name": "ipython",
    "version": 2
   },
   "file_extension": ".py",
   "mimetype": "text/x-python",
   "name": "python",
   "nbconvert_exporter": "python",
   "pygments_lexer": "ipython2",
   "version": "2.7.14"
  }
 },
 "nbformat": 4,
 "nbformat_minor": 2
}
